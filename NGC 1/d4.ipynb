{
 "cells": [
  {
   "cell_type": "code",
   "execution_count": 1,
   "metadata": {},
   "outputs": [
    {
     "name": "stdout",
     "output_type": "stream",
     "text": [
      "1234\n",
      "2024-10-03\n",
      "yosef\n"
     ]
    },
    {
     "ename": "AttributeError",
     "evalue": "'BankAccount' object has no attribute 'check_balance'",
     "output_type": "error",
     "traceback": [
      "\u001b[1;31m---------------------------------------------------------------------------\u001b[0m",
      "\u001b[1;31mAttributeError\u001b[0m                            Traceback (most recent call last)",
      "Cell \u001b[1;32mIn[1], line 32\u001b[0m\n\u001b[0;32m     29\u001b[0m \u001b[38;5;28mprint\u001b[39m(account_yosef\u001b[38;5;241m.\u001b[39mdate_of_opening)\n\u001b[0;32m     30\u001b[0m \u001b[38;5;28mprint\u001b[39m(account_yosef\u001b[38;5;241m.\u001b[39mcustomer_name)\n\u001b[1;32m---> 32\u001b[0m \u001b[38;5;28mprint\u001b[39m(account_yosef\u001b[38;5;241m.\u001b[39mcheck_balance())\n\u001b[0;32m     34\u001b[0m account_yosef\u001b[38;5;241m.\u001b[39mdeposit(\u001b[38;5;241m100000\u001b[39m)\n\u001b[0;32m     35\u001b[0m \u001b[38;5;28mprint\u001b[39m(account_yosef\u001b[38;5;241m.\u001b[39mcheck_balance())\n",
      "\u001b[1;31mAttributeError\u001b[0m: 'BankAccount' object has no attribute 'check_balance'"
     ]
    }
   ],
   "source": [
    "class BankAccount():\n",
    "  def __init__(self, account_number, balance, date_of_opening, customer_name):\n",
    "    self.account_number = account_number\n",
    "    self.__balance = balance\n",
    "    self.date_of_opening = date_of_opening\n",
    "    self.customer_name = customer_name\n",
    "\n",
    "    def deposit(self, deposit_amount):        #SETTER\n",
    "      self.__balance += deposit_amount\n",
    "      print(f\"deposit Berhasil sebesar Rp.{deposit_amount}.00,- berhasil \")\n",
    "\n",
    "    def withdraw(self, withdraw_amount):      #SETTER \n",
    "      #Jika Saldo Cukup\n",
    "      if self.__balance >= withdraw_amount:\n",
    "        self.__balance -= withdraw_amount\n",
    "        print(f\"withdraw Berhasil sebesar Rp.{withdraw_amount} berhasil\")\n",
    "      #Jika Saldo Tidak Mencukupi\n",
    "      else:\n",
    "        print(\"saldo tidak cukup\")\n",
    "\n",
    "    def check_balance(self):    #GETTER\n",
    "      return self.__balance\n",
    "\n",
    "#buka akun bank \n",
    "account_yosef = BankAccount(1234, 50000, \"2024-10-03\", \"yosef\")\n",
    "\n",
    "#akses atribut non encapsulate\n",
    "print(account_yosef.account_number)\n",
    "print(account_yosef.date_of_opening)\n",
    "print(account_yosef.customer_name)\n",
    "\n",
    "print(account_yosef.check_balance())\n",
    "\n",
    "account_yosef.deposit(100000)\n",
    "print(account_yosef.check_balance())\n",
    "\n",
    "account_yosef.withdraw(200000)\n",
    "print(account_yosef.check_balance())"
   ]
  }
 ],
 "metadata": {
  "kernelspec": {
   "display_name": "base",
   "language": "python",
   "name": "python3"
  },
  "language_info": {
   "codemirror_mode": {
    "name": "ipython",
    "version": 3
   },
   "file_extension": ".py",
   "mimetype": "text/x-python",
   "name": "python",
   "nbconvert_exporter": "python",
   "pygments_lexer": "ipython3",
   "version": "3.12.4"
  }
 },
 "nbformat": 4,
 "nbformat_minor": 2
}
