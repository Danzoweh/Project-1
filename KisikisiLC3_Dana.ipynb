{
  "cells": [
    {
      "cell_type": "markdown",
      "metadata": {
        "id": "e0E_A5aDbO7r"
      },
      "source": [
        "# PREFACE\n",
        "\n"
      ]
    },
    {
      "cell_type": "markdown",
      "metadata": {
        "id": "jATbG5t1iuea"
      },
      "source": [
        "# Introduction"
      ]
    },
    {
      "cell_type": "markdown",
      "metadata": {
        "id": "T8UX8BBWiw9v"
      },
      "source": [
        "=======================================\n",
        "\n",
        "Kisi-Kisi LC 3\n",
        "\n",
        "Nama    : Rayindrana Rashad \n",
        "\n",
        "Batch   : HCK-21\n",
        "\n",
        "Program ini dibuat untuk melakukan analisis statistik deskriptif dan API pada Perusahaan peminjaman sepeda di kota San Fransisco\n",
        "\n",
        "======================================="
      ]
    },
    {
      "cell_type": "markdown",
      "metadata": {
        "id": "_cftlZYmjFlw"
      },
      "source": [
        "# ANSWER"
      ]
    },
    {
      "cell_type": "code",
      "execution_count": 15,
      "metadata": {
        "id": "1wBUOWbcFQBD"
      },
      "outputs": [],
      "source": [
        "import pandas as pd\n",
        "from scipy import stats\n",
        "import matplotlib.pyplot as plt\n",
        "import seaborn as sns\n",
        "from IPython.core.display import display, HTML"
      ]
    },
    {
      "cell_type": "code",
      "execution_count": 16,
      "metadata": {
        "colab": {
          "base_uri": "https://localhost:8080/"
        },
        "id": "stLFk77dk8Ek",
        "outputId": "924b3494-3285-4e9f-b293-8f2fde1fbbcf"
      },
      "outputs": [
        {
          "name": "stdout",
          "output_type": "stream",
          "text": [
            "Authenticated\n"
          ]
        }
      ],
      "source": [
        "# Melakukan SetUp koneksi BigQuery ke Google Colab\n",
        "from google.colab import auth\n",
        "from google.cloud import bigquery\n",
        "auth.authenticate_user()\n",
        "print('Authenticated')\n",
        "\n",
        "project_id = \"afi-ftds-hacktiv8\" #Menggunakan project_id masing-masing\n",
        "client = bigquery.Client(project=project_id)"
      ]
    },
    {
      "cell_type": "code",
      "execution_count": 36,
      "metadata": {
        "colab": {
          "base_uri": "https://localhost:8080/",
          "height": 423
        },
        "id": "aWl95OzONhLe",
        "outputId": "1f83c5e6-6568-4627-f70e-e8565b1d2db8"
      },
      "outputs": [
        {
          "data": {
            "application/vnd.google.colaboratory.intrinsic+json": {
              "summary": "{\n  \"name\": \"df\",\n  \"rows\": 3000,\n  \"fields\": [\n    {\n      \"column\": \"duration_sec\",\n      \"properties\": {\n        \"dtype\": \"Int64\",\n        \"num_unique_values\": 1182,\n        \"samples\": [\n          736,\n          1220,\n          4554\n        ],\n        \"semantic_type\": \"\",\n        \"description\": \"\"\n      }\n    }\n  ]\n}",
              "type": "dataframe",
              "variable_name": "df"
            },
            "text/html": [
              "\n",
              "  <div id=\"df-1bef8af0-fec8-40b9-a90b-c08997a85d86\" class=\"colab-df-container\">\n",
              "    <div>\n",
              "<style scoped>\n",
              "    .dataframe tbody tr th:only-of-type {\n",
              "        vertical-align: middle;\n",
              "    }\n",
              "\n",
              "    .dataframe tbody tr th {\n",
              "        vertical-align: top;\n",
              "    }\n",
              "\n",
              "    .dataframe thead th {\n",
              "        text-align: right;\n",
              "    }\n",
              "</style>\n",
              "<table border=\"1\" class=\"dataframe\">\n",
              "  <thead>\n",
              "    <tr style=\"text-align: right;\">\n",
              "      <th></th>\n",
              "      <th>duration_sec</th>\n",
              "    </tr>\n",
              "  </thead>\n",
              "  <tbody>\n",
              "    <tr>\n",
              "      <th>0</th>\n",
              "      <td>1113</td>\n",
              "    </tr>\n",
              "    <tr>\n",
              "      <th>1</th>\n",
              "      <td>788</td>\n",
              "    </tr>\n",
              "    <tr>\n",
              "      <th>2</th>\n",
              "      <td>917</td>\n",
              "    </tr>\n",
              "    <tr>\n",
              "      <th>3</th>\n",
              "      <td>473</td>\n",
              "    </tr>\n",
              "    <tr>\n",
              "      <th>4</th>\n",
              "      <td>580</td>\n",
              "    </tr>\n",
              "    <tr>\n",
              "      <th>...</th>\n",
              "      <td>...</td>\n",
              "    </tr>\n",
              "    <tr>\n",
              "      <th>2995</th>\n",
              "      <td>964</td>\n",
              "    </tr>\n",
              "    <tr>\n",
              "      <th>2996</th>\n",
              "      <td>444</td>\n",
              "    </tr>\n",
              "    <tr>\n",
              "      <th>2997</th>\n",
              "      <td>671</td>\n",
              "    </tr>\n",
              "    <tr>\n",
              "      <th>2998</th>\n",
              "      <td>1441</td>\n",
              "    </tr>\n",
              "    <tr>\n",
              "      <th>2999</th>\n",
              "      <td>624</td>\n",
              "    </tr>\n",
              "  </tbody>\n",
              "</table>\n",
              "<p>3000 rows × 1 columns</p>\n",
              "</div>\n",
              "    <div class=\"colab-df-buttons\">\n",
              "\n",
              "  <div class=\"colab-df-container\">\n",
              "    <button class=\"colab-df-convert\" onclick=\"convertToInteractive('df-1bef8af0-fec8-40b9-a90b-c08997a85d86')\"\n",
              "            title=\"Convert this dataframe to an interactive table.\"\n",
              "            style=\"display:none;\">\n",
              "\n",
              "  <svg xmlns=\"http://www.w3.org/2000/svg\" height=\"24px\" viewBox=\"0 -960 960 960\">\n",
              "    <path d=\"M120-120v-720h720v720H120Zm60-500h600v-160H180v160Zm220 220h160v-160H400v160Zm0 220h160v-160H400v160ZM180-400h160v-160H180v160Zm440 0h160v-160H620v160ZM180-180h160v-160H180v160Zm440 0h160v-160H620v160Z\"/>\n",
              "  </svg>\n",
              "    </button>\n",
              "\n",
              "  <style>\n",
              "    .colab-df-container {\n",
              "      display:flex;\n",
              "      gap: 12px;\n",
              "    }\n",
              "\n",
              "    .colab-df-convert {\n",
              "      background-color: #E8F0FE;\n",
              "      border: none;\n",
              "      border-radius: 50%;\n",
              "      cursor: pointer;\n",
              "      display: none;\n",
              "      fill: #1967D2;\n",
              "      height: 32px;\n",
              "      padding: 0 0 0 0;\n",
              "      width: 32px;\n",
              "    }\n",
              "\n",
              "    .colab-df-convert:hover {\n",
              "      background-color: #E2EBFA;\n",
              "      box-shadow: 0px 1px 2px rgba(60, 64, 67, 0.3), 0px 1px 3px 1px rgba(60, 64, 67, 0.15);\n",
              "      fill: #174EA6;\n",
              "    }\n",
              "\n",
              "    .colab-df-buttons div {\n",
              "      margin-bottom: 4px;\n",
              "    }\n",
              "\n",
              "    [theme=dark] .colab-df-convert {\n",
              "      background-color: #3B4455;\n",
              "      fill: #D2E3FC;\n",
              "    }\n",
              "\n",
              "    [theme=dark] .colab-df-convert:hover {\n",
              "      background-color: #434B5C;\n",
              "      box-shadow: 0px 1px 3px 1px rgba(0, 0, 0, 0.15);\n",
              "      filter: drop-shadow(0px 1px 2px rgba(0, 0, 0, 0.3));\n",
              "      fill: #FFFFFF;\n",
              "    }\n",
              "  </style>\n",
              "\n",
              "    <script>\n",
              "      const buttonEl =\n",
              "        document.querySelector('#df-1bef8af0-fec8-40b9-a90b-c08997a85d86 button.colab-df-convert');\n",
              "      buttonEl.style.display =\n",
              "        google.colab.kernel.accessAllowed ? 'block' : 'none';\n",
              "\n",
              "      async function convertToInteractive(key) {\n",
              "        const element = document.querySelector('#df-1bef8af0-fec8-40b9-a90b-c08997a85d86');\n",
              "        const dataTable =\n",
              "          await google.colab.kernel.invokeFunction('convertToInteractive',\n",
              "                                                    [key], {});\n",
              "        if (!dataTable) return;\n",
              "\n",
              "        const docLinkHtml = 'Like what you see? Visit the ' +\n",
              "          '<a target=\"_blank\" href=https://colab.research.google.com/notebooks/data_table.ipynb>data table notebook</a>'\n",
              "          + ' to learn more about interactive tables.';\n",
              "        element.innerHTML = '';\n",
              "        dataTable['output_type'] = 'display_data';\n",
              "        await google.colab.output.renderOutput(dataTable, element);\n",
              "        const docLink = document.createElement('div');\n",
              "        docLink.innerHTML = docLinkHtml;\n",
              "        element.appendChild(docLink);\n",
              "      }\n",
              "    </script>\n",
              "  </div>\n",
              "\n",
              "\n",
              "<div id=\"df-dd3b754a-e769-4942-9e09-e268f7cd3f1f\">\n",
              "  <button class=\"colab-df-quickchart\" onclick=\"quickchart('df-dd3b754a-e769-4942-9e09-e268f7cd3f1f')\"\n",
              "            title=\"Suggest charts\"\n",
              "            style=\"display:none;\">\n",
              "\n",
              "<svg xmlns=\"http://www.w3.org/2000/svg\" height=\"24px\"viewBox=\"0 0 24 24\"\n",
              "     width=\"24px\">\n",
              "    <g>\n",
              "        <path d=\"M19 3H5c-1.1 0-2 .9-2 2v14c0 1.1.9 2 2 2h14c1.1 0 2-.9 2-2V5c0-1.1-.9-2-2-2zM9 17H7v-7h2v7zm4 0h-2V7h2v10zm4 0h-2v-4h2v4z\"/>\n",
              "    </g>\n",
              "</svg>\n",
              "  </button>\n",
              "\n",
              "<style>\n",
              "  .colab-df-quickchart {\n",
              "      --bg-color: #E8F0FE;\n",
              "      --fill-color: #1967D2;\n",
              "      --hover-bg-color: #E2EBFA;\n",
              "      --hover-fill-color: #174EA6;\n",
              "      --disabled-fill-color: #AAA;\n",
              "      --disabled-bg-color: #DDD;\n",
              "  }\n",
              "\n",
              "  [theme=dark] .colab-df-quickchart {\n",
              "      --bg-color: #3B4455;\n",
              "      --fill-color: #D2E3FC;\n",
              "      --hover-bg-color: #434B5C;\n",
              "      --hover-fill-color: #FFFFFF;\n",
              "      --disabled-bg-color: #3B4455;\n",
              "      --disabled-fill-color: #666;\n",
              "  }\n",
              "\n",
              "  .colab-df-quickchart {\n",
              "    background-color: var(--bg-color);\n",
              "    border: none;\n",
              "    border-radius: 50%;\n",
              "    cursor: pointer;\n",
              "    display: none;\n",
              "    fill: var(--fill-color);\n",
              "    height: 32px;\n",
              "    padding: 0;\n",
              "    width: 32px;\n",
              "  }\n",
              "\n",
              "  .colab-df-quickchart:hover {\n",
              "    background-color: var(--hover-bg-color);\n",
              "    box-shadow: 0 1px 2px rgba(60, 64, 67, 0.3), 0 1px 3px 1px rgba(60, 64, 67, 0.15);\n",
              "    fill: var(--button-hover-fill-color);\n",
              "  }\n",
              "\n",
              "  .colab-df-quickchart-complete:disabled,\n",
              "  .colab-df-quickchart-complete:disabled:hover {\n",
              "    background-color: var(--disabled-bg-color);\n",
              "    fill: var(--disabled-fill-color);\n",
              "    box-shadow: none;\n",
              "  }\n",
              "\n",
              "  .colab-df-spinner {\n",
              "    border: 2px solid var(--fill-color);\n",
              "    border-color: transparent;\n",
              "    border-bottom-color: var(--fill-color);\n",
              "    animation:\n",
              "      spin 1s steps(1) infinite;\n",
              "  }\n",
              "\n",
              "  @keyframes spin {\n",
              "    0% {\n",
              "      border-color: transparent;\n",
              "      border-bottom-color: var(--fill-color);\n",
              "      border-left-color: var(--fill-color);\n",
              "    }\n",
              "    20% {\n",
              "      border-color: transparent;\n",
              "      border-left-color: var(--fill-color);\n",
              "      border-top-color: var(--fill-color);\n",
              "    }\n",
              "    30% {\n",
              "      border-color: transparent;\n",
              "      border-left-color: var(--fill-color);\n",
              "      border-top-color: var(--fill-color);\n",
              "      border-right-color: var(--fill-color);\n",
              "    }\n",
              "    40% {\n",
              "      border-color: transparent;\n",
              "      border-right-color: var(--fill-color);\n",
              "      border-top-color: var(--fill-color);\n",
              "    }\n",
              "    60% {\n",
              "      border-color: transparent;\n",
              "      border-right-color: var(--fill-color);\n",
              "    }\n",
              "    80% {\n",
              "      border-color: transparent;\n",
              "      border-right-color: var(--fill-color);\n",
              "      border-bottom-color: var(--fill-color);\n",
              "    }\n",
              "    90% {\n",
              "      border-color: transparent;\n",
              "      border-bottom-color: var(--fill-color);\n",
              "    }\n",
              "  }\n",
              "</style>\n",
              "\n",
              "  <script>\n",
              "    async function quickchart(key) {\n",
              "      const quickchartButtonEl =\n",
              "        document.querySelector('#' + key + ' button');\n",
              "      quickchartButtonEl.disabled = true;  // To prevent multiple clicks.\n",
              "      quickchartButtonEl.classList.add('colab-df-spinner');\n",
              "      try {\n",
              "        const charts = await google.colab.kernel.invokeFunction(\n",
              "            'suggestCharts', [key], {});\n",
              "      } catch (error) {\n",
              "        console.error('Error during call to suggestCharts:', error);\n",
              "      }\n",
              "      quickchartButtonEl.classList.remove('colab-df-spinner');\n",
              "      quickchartButtonEl.classList.add('colab-df-quickchart-complete');\n",
              "    }\n",
              "    (() => {\n",
              "      let quickchartButtonEl =\n",
              "        document.querySelector('#df-dd3b754a-e769-4942-9e09-e268f7cd3f1f button');\n",
              "      quickchartButtonEl.style.display =\n",
              "        google.colab.kernel.accessAllowed ? 'block' : 'none';\n",
              "    })();\n",
              "  </script>\n",
              "</div>\n",
              "\n",
              "  <div id=\"id_eaf2fedc-2249-4441-aac5-c85c2526dd98\">\n",
              "    <style>\n",
              "      .colab-df-generate {\n",
              "        background-color: #E8F0FE;\n",
              "        border: none;\n",
              "        border-radius: 50%;\n",
              "        cursor: pointer;\n",
              "        display: none;\n",
              "        fill: #1967D2;\n",
              "        height: 32px;\n",
              "        padding: 0 0 0 0;\n",
              "        width: 32px;\n",
              "      }\n",
              "\n",
              "      .colab-df-generate:hover {\n",
              "        background-color: #E2EBFA;\n",
              "        box-shadow: 0px 1px 2px rgba(60, 64, 67, 0.3), 0px 1px 3px 1px rgba(60, 64, 67, 0.15);\n",
              "        fill: #174EA6;\n",
              "      }\n",
              "\n",
              "      [theme=dark] .colab-df-generate {\n",
              "        background-color: #3B4455;\n",
              "        fill: #D2E3FC;\n",
              "      }\n",
              "\n",
              "      [theme=dark] .colab-df-generate:hover {\n",
              "        background-color: #434B5C;\n",
              "        box-shadow: 0px 1px 3px 1px rgba(0, 0, 0, 0.15);\n",
              "        filter: drop-shadow(0px 1px 2px rgba(0, 0, 0, 0.3));\n",
              "        fill: #FFFFFF;\n",
              "      }\n",
              "    </style>\n",
              "    <button class=\"colab-df-generate\" onclick=\"generateWithVariable('df')\"\n",
              "            title=\"Generate code using this dataframe.\"\n",
              "            style=\"display:none;\">\n",
              "\n",
              "  <svg xmlns=\"http://www.w3.org/2000/svg\" height=\"24px\"viewBox=\"0 0 24 24\"\n",
              "       width=\"24px\">\n",
              "    <path d=\"M7,19H8.4L18.45,9,17,7.55,7,17.6ZM5,21V16.75L18.45,3.32a2,2,0,0,1,2.83,0l1.4,1.43a1.91,1.91,0,0,1,.58,1.4,1.91,1.91,0,0,1-.58,1.4L9.25,21ZM18.45,9,17,7.55Zm-12,3A5.31,5.31,0,0,0,4.9,8.1,5.31,5.31,0,0,0,1,6.5,5.31,5.31,0,0,0,4.9,4.9,5.31,5.31,0,0,0,6.5,1,5.31,5.31,0,0,0,8.1,4.9,5.31,5.31,0,0,0,12,6.5,5.46,5.46,0,0,0,6.5,12Z\"/>\n",
              "  </svg>\n",
              "    </button>\n",
              "    <script>\n",
              "      (() => {\n",
              "      const buttonEl =\n",
              "        document.querySelector('#id_eaf2fedc-2249-4441-aac5-c85c2526dd98 button.colab-df-generate');\n",
              "      buttonEl.style.display =\n",
              "        google.colab.kernel.accessAllowed ? 'block' : 'none';\n",
              "\n",
              "      buttonEl.onclick = () => {\n",
              "        google.colab.notebook.generateWithVariable('df');\n",
              "      }\n",
              "      })();\n",
              "    </script>\n",
              "  </div>\n",
              "\n",
              "    </div>\n",
              "  </div>\n"
            ],
            "text/plain": [
              "      duration_sec\n",
              "0             1113\n",
              "1              788\n",
              "2              917\n",
              "3              473\n",
              "4              580\n",
              "...            ...\n",
              "2995           964\n",
              "2996           444\n",
              "2997           671\n",
              "2998          1441\n",
              "2999           624\n",
              "\n",
              "[3000 rows x 1 columns]"
            ]
          },
          "execution_count": 36,
          "metadata": {},
          "output_type": "execute_result"
        }
      ],
      "source": [
        "# Menampilkan data dari BigQuery dengan memanggil variabel df\n",
        "df = client.query('''\n",
        "SELECT duration_sec\n",
        "FROM `bigquery-public-data.san_francisco_bikeshare.bikeshare_trips`\n",
        "LIMIT 3000;\n",
        "''').to_dataframe()\n",
        "\n",
        "df"
      ]
    },
    {
      "cell_type": "markdown",
      "metadata": {
        "id": "Sj_2GPMTbyRI"
      },
      "source": [
        "# STATISTIK DESKRIPTIF"
      ]
    },
    {
      "cell_type": "markdown",
      "metadata": {
        "id": "9BkywBD0DXn8"
      },
      "source": [
        "## 1. Perhitungan central tendency (mean, median, dan modus)"
      ]
    },
    {
      "cell_type": "code",
      "execution_count": 37,
      "metadata": {
        "colab": {
          "base_uri": "https://localhost:8080/"
        },
        "id": "Kx__P_tDFiAy",
        "outputId": "eb0a829e-f7ca-4d91-d4fe-509335112154"
      },
      "outputs": [
        {
          "name": "stdout",
          "output_type": "stream",
          "text": [
            "Duration sec in Average: 976.386 sec\n",
            "Median of Duration Sec: 498.0 sec\n",
            "Mode of Duration sec: 234 sec\n"
          ]
        }
      ],
      "source": [
        "# Menghitung mean\n",
        "print('Duration sec in Average:',df['duration_sec'].mean(),'sec')\n",
        "\n",
        "# Menghitung median\n",
        "print('Median of Duration Sec:',df['duration_sec'].median(),'sec')\n",
        "\n",
        "# Menghitung modus\n",
        "print('Mode of Duration sec:',df['duration_sec'].mode().values[0],'sec')"
      ]
    },
    {
      "cell_type": "markdown",
      "metadata": {
        "id": "2PkfFX4yGxAk"
      },
      "source": [
        "Mean / rata-rata durasi perjalanan customer adalah 976.386 sec\n",
        "Median durasi perjalanan customer adalah 498.0 sec\n",
        "Modus durasi perjalanan customer adalah 234 sec"
      ]
    },
    {
      "cell_type": "markdown",
      "metadata": {
        "id": "tgxROzGKHCyP"
      },
      "source": [
        "## 2. Pengecekan dispersi "
      ]
    },
    {
      "cell_type": "code",
      "execution_count": 38,
      "metadata": {
        "colab": {
          "base_uri": "https://localhost:8080/"
        },
        "id": "ZjdiStbFFsyf",
        "outputId": "47803fae-ddd3-4f96-dc6b-a1294198aef8"
      },
      "outputs": [
        {
          "name": "stdout",
          "output_type": "stream",
          "text": [
            "Standard Deviation of duration sec: 4057.199757011408\n"
          ]
        }
      ],
      "source": [
        "# Pengecekan standar deviasi\n",
        "std = df['duration_sec'].std()\n",
        "print('Standard Deviation of duration sec:',std)"
      ]
    },
    {
      "cell_type": "markdown",
      "metadata": {
        "id": "Qoee-pyIHdkO"
      },
      "source": [
        "Standar deviasi pada duration sec adalah 4057.199757011408"
      ]
    },
    {
      "cell_type": "code",
      "execution_count": 39,
      "metadata": {
        "colab": {
          "base_uri": "https://localhost:8080/"
        },
        "id": "v8oPi-8tKJt3",
        "outputId": "4acd5337-e50f-4a9f-e54c-68fd98caff4d"
      },
      "outputs": [
        {
          "name": "stdout",
          "output_type": "stream",
          "text": [
            "Variance of duration sec: 16460869.868293429\n"
          ]
        }
      ],
      "source": [
        "# Pengecekan variance\n",
        "variance = df['duration_sec'].var()\n",
        "print('Variance of duration sec:',variance)"
      ]
    },
    {
      "cell_type": "markdown",
      "metadata": {
        "id": "57mgq5bdKSkw"
      },
      "source": [
        "Variance dari data duration sec adalah 16460869.868293429"
      ]
    },
    {
      "cell_type": "code",
      "execution_count": 40,
      "metadata": {
        "colab": {
          "base_uri": "https://localhost:8080/"
        },
        "id": "Gf-lyAg2Kjhl",
        "outputId": "49cfe601-c3e8-4b72-ae75-d404b4ab708b"
      },
      "outputs": [
        {
          "name": "stdout",
          "output_type": "stream",
          "text": [
            "Range of duration sec: 85910\n"
          ]
        }
      ],
      "source": [
        "# Pengecekan range\n",
        "range = df['duration_sec'].max() - df['duration_sec'].min()\n",
        "print('Range of duration sec:',range)"
      ]
    },
    {
      "cell_type": "markdown",
      "metadata": {
        "id": "-Q9FOskpLNiQ"
      },
      "source": [
        "Range pada duration sec adalah 85910"
      ]
    },
    {
      "cell_type": "markdown",
      "metadata": {
        "id": "bJLZz-WIJC2r"
      },
      "source": [
        "## 3. Pengecekan skewness dan kurtosis"
      ]
    },
    {
      "cell_type": "code",
      "execution_count": 42,
      "metadata": {
        "colab": {
          "base_uri": "https://localhost:8080/"
        },
        "id": "Frt5-bzhHYa4",
        "outputId": "6d33aee6-049f-4ea1-c4c1-cd2686f22b80"
      },
      "outputs": [
        {
          "name": "stdout",
          "output_type": "stream",
          "text": [
            "Skewness: 14.139091375363616\n"
          ]
        }
      ],
      "source": [
        "# Pengecekan skewness\n",
        "print(f\"Skewness: {df['duration_sec'].skew()}\")"
      ]
    },
    {
      "cell_type": "markdown",
      "metadata": {
        "id": "JycugeEbPAEC"
      },
      "source": [
        "nilai skewness adalah 14.139091375363616"
      ]
    },
    {
      "cell_type": "code",
      "execution_count": 43,
      "metadata": {
        "colab": {
          "base_uri": "https://localhost:8080/"
        },
        "id": "9QdnJKbQJpJw",
        "outputId": "7fba6ab4-2a80-413c-acc1-90b0b2ae5ecc"
      },
      "outputs": [
        {
          "name": "stdout",
          "output_type": "stream",
          "text": [
            "Kurtosis: 224.14896554962405\n"
          ]
        }
      ],
      "source": [
        "# Pengecekan kurtosis\n",
        "print(f\"Kurtosis: {df['duration_sec'].kurtosis()}\")"
      ]
    },
    {
      "cell_type": "markdown",
      "metadata": {
        "id": "FyDWlqrQPNjr"
      },
      "source": [
        "Nilai kurtosis adalah 224.14896554962405"
      ]
    },
    {
      "cell_type": "markdown",
      "metadata": {
        "id": "yaUw9s1gL6CU"
      },
      "source": [
        "## 4. Menganalisa apakah ada data outlier berdasarkan sebaran data"
      ]
    },
    {
      "cell_type": "markdown",
      "metadata": {
        "id": "F-xyewh6Nr-v"
      },
      "source": [
        "- Berdasarkan normality test skewness yang dilakukan, menunjukkan angka 14.139091375363616 (high skew) sehingga terdapat outlier.\n",
        "- Berdasarkan normality test kurtosis yang dilakukan, menunjukkan angka 224.14896554962405 (leptokurtic type) sehingga terdapat outlier."
      ]
    },
    {
      "cell_type": "markdown",
      "metadata": {
        "id": "2K4Vz0oVMBOZ"
      },
      "source": [
        "## 5. Cari tahu berapa persentase outlier terhadap data keseluruhan."
      ]
    },
    {
      "cell_type": "code",
      "execution_count": 51,
      "metadata": {
        "colab": {
          "base_uri": "https://localhost:8080/"
        },
        "id": "ejU0pooKR7Wg",
        "outputId": "08f3a2e2-dd4c-4428-d06c-5ff0ec5848e1"
      },
      "outputs": [
        {
          "name": "stdout",
          "output_type": "stream",
          "text": [
            "Upper Boundary: 1472.88\n",
            "Lower Boundary: -388.12\n"
          ]
        }
      ],
      "source": [
        "# Mengecek nilai Q1, Q3, dan IQR\n",
        "q1 = df['duration_sec'].quantile(0.25)\n",
        "q3 = df['duration_sec'].quantile(0.75)\n",
        "iqr = q3-q1\n",
        "\n",
        "# Mengecek nilai batas atas dan bawah\n",
        "up_bound = q3 + 1.5*iqr\n",
        "low_bound = q1 - 1.5*iqr\n",
        "\n",
        "print(f'Upper Boundary: {up_bound:.2f}' )\n",
        "print(f'Lower Boundary: {low_bound:.2f}')"
      ]
    },
    {
      "cell_type": "markdown",
      "metadata": {
        "id": "1YNOp588TjwX"
      },
      "source": [
        "Upper boundary pada duration sec adalah 1472.88\n",
        "lower bounday pada duration sec adalah -388.12"
      ]
    },
    {
      "cell_type": "code",
      "execution_count": 55,
      "metadata": {
        "colab": {
          "base_uri": "https://localhost:8080/"
        },
        "id": "TRqLjGwrTxop",
        "outputId": "18050dc0-6b80-4d32-b23a-95c9451d69bb"
      },
      "outputs": [
        {
          "name": "stdout",
          "output_type": "stream",
          "text": [
            "Percentage of outliers: 6.00%\n"
          ]
        }
      ],
      "source": [
        "# Outlier\n",
        "outlier = df['duration_sec'][(df['duration_sec']<low_bound) | (df['duration_sec']>up_bound)]\n",
        "\n",
        "# Normal\n",
        "no_outlier = df['duration_sec'][(df['duration_sec']>=low_bound) & (df['duration_sec']<=up_bound)]\n",
        "\n",
        "print(f'Percentage of outliers: {len(outlier)*100/len(df[\"duration_sec\"]):.2f}%')"
      ]
    },
    {
      "cell_type": "markdown",
      "metadata": {
        "id": "Yyms-tHRg8cm"
      },
      "source": [
        "Persentase outlier terhadap data secara keseluruhan adaah 6.00%"
      ]
    },
    {
      "cell_type": "markdown",
      "metadata": {
        "id": "2sIk5F8gMG9O"
      },
      "source": [
        "## 6. Bagaimana perubahan pemusatan data sebelum dan sesudah penghapusan outlier?"
      ]
    },
    {
      "cell_type": "code",
      "execution_count": 57,
      "metadata": {
        "colab": {
          "base_uri": "https://localhost:8080/"
        },
        "id": "k2cLGRaUMHpU",
        "outputId": "58fd4e5e-76e0-4b2a-c8f0-ac891872a8e3"
      },
      "outputs": [
        {
          "name": "stdout",
          "output_type": "stream",
          "text": [
            "Sebelum Extreme Value Analysis\n",
            "Average: 976.386\n",
            "Median : 498.0\n",
            "Mode   : 234\n",
            "------------------------------\n",
            "Sesudah Extreme Value Analysis\n",
            "Average: 536.4195035460992\n",
            "Median : 471.0\n",
            "Mode   : 234\n"
          ]
        }
      ],
      "source": [
        "# Mengecek perubahan pemusatan data sebelum penghapusan outlier\n",
        "print(\"Sebelum Extreme Value Analysis\")\n",
        "print('Average:',df['duration_sec'].mean())\n",
        "print('Median :',df['duration_sec'].median())\n",
        "print('Mode   :',df['duration_sec'].mode().values[0])\n",
        "print(\"-\"*30)\n",
        "\n",
        "# Mengecek perubahan pemusatan data setelah penghapusan outlier\n",
        "print(\"Sesudah Extreme Value Analysis\")\n",
        "print('Average:',no_outlier.mean())\n",
        "print('Median :',no_outlier.median())\n",
        "print('Mode   :',no_outlier.mode().values[0])"
      ]
    }
  ],
  "metadata": {
    "colab": {
      "provenance": []
    },
    "kernelspec": {
      "display_name": "Python 3",
      "name": "python3"
    },
    "language_info": {
      "name": "python"
    }
  },
  "nbformat": 4,
  "nbformat_minor": 0
}
