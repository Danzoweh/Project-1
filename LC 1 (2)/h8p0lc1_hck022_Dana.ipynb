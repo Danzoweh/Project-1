{
  "nbformat": 4,
  "nbformat_minor": 0,
  "metadata": {
    "colab": {
      "provenance": []
    },
    "kernelspec": {
      "name": "python3",
      "display_name": "Python 3"
    },
    "language_info": {
      "name": "python"
    }
  },
  "cells": [
    {
      "cell_type": "markdown",
      "source": [
        "==========================================================\n",
        "\n",
        "Nama : Rayindrana Rashad\n",
        "Batch: HCK-21\n",
        "\n",
        "Program ini dibuat untuk menghitung diskon membership regular dan VIP pada tiap produk\n",
        "\n",
        "=========================================================="
      ],
      "metadata": {
        "id": "uKobkI3P5zpm"
      }
    },
    {
      "cell_type": "markdown",
      "source": [
        "#1.Membuat fungsi untuk menghitung diskon Membership"
      ],
      "metadata": {
        "id": "VTpfReiNE1_4"
      }
    },
    {
      "cell_type": "code",
      "execution_count": 30,
      "metadata": {
        "id": "FOKRyFwj47sr"
      },
      "outputs": [],
      "source": [
        "class Membership:\n",
        "  def __init__(self, belanja):\n",
        "    self.belanja = belanja\n",
        "#Membuat fungsi diskon regular\n",
        "\n",
        "\n",
        "  def Regular():\n",
        "    belanja = 20000\n",
        "\n",
        "    if belanja > 10000:\n",
        "      print (\"Diskon 10%\")\n",
        "    elif belanja <= 10000:\n",
        "      print (\"Diskon 5%\")\n",
        "    else:\n",
        "      print (\"Tidak ada diskon\")\n",
        "\n",
        "  #Membuat fungsi diskon Vip\n",
        "\n",
        "  def Vip():\n",
        "    belanja = 70000\n",
        "\n",
        "    if belanja > 50000:\n",
        "      print (\"Diskon 30%\")\n",
        "    elif belanja <= 50000:\n",
        "      print (\"Diskon 20%\")\n",
        "    else:\n",
        "      print (\"Tidak ada diskon\")\n",
        "\n"
      ]
    },
    {
      "cell_type": "code",
      "source": [
        "belanja = 60000\n",
        "\n",
        "print(Regular)\n",
        "print(Vip)"
      ],
      "metadata": {
        "colab": {
          "base_uri": "https://localhost:8080/"
        },
        "id": "A8nij0TkKTTI",
        "outputId": "272a852d-3b6e-4857-c307-3a1f447c5a7c"
      },
      "execution_count": 33,
      "outputs": [
        {
          "output_type": "stream",
          "name": "stdout",
          "text": [
            "<function Regular at 0x79a5b26ec430>\n",
            "<function Vip at 0x79a5b26ec550>\n"
          ]
        }
      ]
    },
    {
      "cell_type": "markdown",
      "source": [
        "#2.Membuat Fungsi Total Belanja yang telah dikurangi diskon"
      ],
      "metadata": {
        "id": "Qd4UYlHRE9V4"
      }
    },
    {
      "cell_type": "code",
      "source": [
        "# Membuat Fungsi Harga Diskon sesuai Membership\n",
        "'''\n",
        "Untuk Reguler mendapat diskon 10% kalau belanja diatas 10.000 dan 5% kalau sama dengan atau dibawah 10.000\n",
        "Untuk Vip mendapat diskon 30% kalau belanja diatas 50.000 dan 20% kalau sama dengan atau dibawah 50.000\n",
        "'''\n",
        "\n",
        "\n",
        "\n",
        "def harga_diskon(harga_belanja ,*discount):\n",
        "\n",
        "  for discount in discount:\n",
        "\n",
        "    harga_diskon = (harga_belanja * discount) / 100\n",
        "    harga_belanja = harga_belanja - harga_diskon\n",
        "\n",
        "  return harga_belanja\n",
        "\n",
        "print(harga_diskon(50000, 20))\n",
        "print(harga_diskon(60000, 30))\n",
        "print(harga_diskon(12000, 10))\n",
        "print(harga_diskon(7000, 5))\n",
        "\n"
      ],
      "metadata": {
        "colab": {
          "base_uri": "https://localhost:8080/"
        },
        "id": "Ix-7HoTtFP_C",
        "outputId": "681f664b-99c2-4fbb-f30e-548d89b69865"
      },
      "execution_count": 2,
      "outputs": [
        {
          "output_type": "stream",
          "name": "stdout",
          "text": [
            "40000.0\n",
            "42000.0\n",
            "10800.0\n",
            "6650.0\n",
            "129000\n"
          ]
        }
      ]
    },
    {
      "cell_type": "code",
      "source": [
        "import unittest\n",
        "\n",
        "\n",
        "# Membuat kelas harga_belanja untuk unit testing fungsi harga_diskon\n",
        "class harga_belanja(unittest.TestCase):\n",
        "\n",
        "    # Metode test_calories_burned untuk menguji fungsi harga_diskon\n",
        "    def test_harga_diskon(self):\n",
        "\n",
        "        # Memastikan output fungsi sesuai dengan yang diharapkan untuk kasus tes tertentu yang kita pilih bebas\n",
        "        self.assertEqual(harga_diskon(20000,20), 16000)\n",
        "        self.assertEqual(harga_diskon(50000,20), 40000)\n",
        "        self.assertEqual(harga_diskon(51000),30, 35700)\n",
        "        self.assertEqual(harga_diskon(100000 30), 70000)\n",
        "        self.assertEqual(harga_diskon(5000), 20), 4000)\n",
        "\n",
        "# Membuat kelas testtotalhargadiskon untuk unit testing fungsi harga_diskon\n",
        "class testtotalhargadiskon(unittest.TestCase):\n",
        "\n",
        "    # Metode test_total_harga_diskon untuk menguji fungsi harga_diskon\n",
        "    def test_total_harga_diskon(self):\n",
        "\n",
        "        # Memastikan output fungsi sesuai dengan yang diharapkan untuk kasus tes tertentu yang kita pilih bebas\n",
        "        self.assertEqual(harga_diskon(10000, 5), 49000)\n",
        "        self.assertEqual(harga_diskon(30000, 10), 27000)\n",
        "        self.assertEqual(harga_diskon(42000, 10), 33600)\n",
        "        self.assertEqual(harga_diskon(72000, 10), 57600)\n",
        "        self.assertEqual(harga_diskon(15500, 10), 14450)\n",
        "\n",
        "# Menjalankan unit testing\n",
        "# if __name__ == '__main__':\n",
        "unittest.main(argv=[''], exit=False)"
      ],
      "metadata": {
        "id": "tfnB2mTnO0e9",
        "outputId": "1102adcd-d179-4ef3-dcd7-1cb01b80b334",
        "colab": {
          "base_uri": "https://localhost:8080/"
        }
      },
      "execution_count": 35,
      "outputs": [
        {
          "output_type": "stream",
          "name": "stderr",
          "text": [
            "EE\n",
            "======================================================================\n",
            "ERROR: test_calories_burned (__main__.TestCaloriesBurned)\n",
            "----------------------------------------------------------------------\n",
            "Traceback (most recent call last):\n",
            "  File \"<ipython-input-35-ffa058d50f2c>\", line 13, in test_calories_burned\n",
            "    self.assertEqual(calories_burned(60, 'berenang'), 720)\n",
            "NameError: name 'calories_burned' is not defined\n",
            "\n",
            "======================================================================\n",
            "ERROR: test_total_session_burned_cal (__main__.TestTotalSessionBurnedCal)\n",
            "----------------------------------------------------------------------\n",
            "Traceback (most recent call last):\n",
            "  File \"<ipython-input-35-ffa058d50f2c>\", line 25, in test_total_session_burned_cal\n",
            "    self.assertEqual(total_session_burned_cal(10, 'berenang', 'bersepeda'), 200)\n",
            "NameError: name 'total_session_burned_cal' is not defined\n",
            "\n",
            "----------------------------------------------------------------------\n",
            "Ran 2 tests in 0.009s\n",
            "\n",
            "FAILED (errors=2)\n"
          ]
        },
        {
          "output_type": "execute_result",
          "data": {
            "text/plain": [
              "<unittest.main.TestProgram at 0x79a5b268ec80>"
            ]
          },
          "metadata": {},
          "execution_count": 35
        }
      ]
    }
  ]
}