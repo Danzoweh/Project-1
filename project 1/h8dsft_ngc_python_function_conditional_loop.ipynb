{
 "cells": [
  {
   "cell_type": "code",
   "execution_count": 15,
   "metadata": {},
   "outputs": [],
   "source": [
    "#function number_of_word\n",
    "def number_of_word():\n",
    "    x = str(input(\" Masukkan Tulisan\"))\n",
    "    l = x.split()\n",
    "    return len(l)\n",
    "\n",
    "\n",
    "\n",
    "    \n"
   ]
  },
  {
   "cell_type": "code",
   "execution_count": 16,
   "metadata": {},
   "outputs": [
    {
     "data": {
      "text/plain": [
       "3"
      ]
     },
     "execution_count": 16,
     "metadata": {},
     "output_type": "execute_result"
    }
   ],
   "source": [
    "number_of_word()"
   ]
  },
  {
   "cell_type": "code",
   "execution_count": 26,
   "metadata": {},
   "outputs": [
    {
     "name": "stdout",
     "output_type": "stream",
     "text": [
      "[3, 6, 9, 12, 15, 18]\n",
      "[10, 20, 30, 40, 50]\n",
      "[5, 10, 15, 20]\n",
      "[10, 20, 30, 40, 50]\n"
     ]
    }
   ],
   "source": [
    "def find_multiples(start_range, end_range, multiple):\n",
    "    out = []\n",
    "    z = int(end_range/multiple)\n",
    "    i = 1\n",
    "    while i <= z:\n",
    "        out.append(multiple * i)\n",
    "        i += 1\n",
    "    for i in out:\n",
    "        if (i < start_range):\n",
    "            out.remove(i)\n",
    "    return out\n",
    "\n",
    "def find(start_range, end_range, multiple):\n",
    "    result=[]\n",
    "    for num in range(start_range, end_range+1):\n",
    "        if num % multiple == 0:\n",
    "            result.append(num)\n",
    "    return result\n",
    "\n",
    "print(find_multiples(start_range=1, end_range=20, multiple=3))\n",
    "print(find_multiples(start_range=1, end_range=50, multiple=10))\n",
    "print(find(start_range=1, end_range=20, multiple=5))\n",
    "print(find(start_range=1, end_range=50, multiple=10))\n"
   ]
  },
  {
   "cell_type": "code",
   "execution_count": 28,
   "metadata": {},
   "outputs": [
    {
     "name": "stdout",
     "output_type": "stream",
     "text": [
      "{'name': 'Dana', 'score': 85, 'LetterGrade': 'A', 'GPA': '4'}\n",
      "{'name': 'Dana', 'score': 70, 'LetterGrade': 'B', 'GPA': '3'}\n",
      "{'name': 'Dana', 'score': 60, 'LetterGrade': 'C', 'GPA': '2.5'}\n",
      "{'name': 'Dana', 'score': 50, 'LetterGrade': 'D', 'GPA': '2'}\n",
      "{'name': 'Dana', 'score': 40, 'LetterGrade': 'E', 'GPA': '1.5'}\n",
      "{'name': 'Dana', 'score': 10, 'LetterGrade': 'F', 'GPA': '1'}\n"
     ]
    }
   ],
   "source": [
    "def Grade_Converter(name, score):\n",
    "    d = {'name':name,\n",
    "         \"score\":score,\n",
    "         \"LetterGrade\":\"\",\n",
    "         \"GPA\":\"\"}\n",
    "    \n",
    "    if (100 >= score >= 85):\n",
    "        d[\"LetterGrade\"]=\"A\"\n",
    "        d[\"GPA\"] = \"4\"\n",
    "    elif (84.99 >= score >= 70):\n",
    "        d[\"LetterGrade\"]=\"B\"\n",
    "        d[\"GPA\"] = \"3\"\n",
    "    elif (69.99 >= score >= 60):\n",
    "        d[\"LetterGrade\"]=\"C\"\n",
    "        d[\"GPA\"] = \"2.5\"\n",
    "    elif (59.99 >= score >= 50):\n",
    "        d[\"LetterGrade\"]=\"D\"\n",
    "        d[\"GPA\"] = \"2\"\n",
    "    elif (49.99 >= score >= 40):\n",
    "        d[\"LetterGrade\"]=\"E\"\n",
    "        d[\"GPA\"] = \"1.5\"\n",
    "    elif (39.99 >= score >= 0):\n",
    "        d[\"LetterGrade\"]=\"F\"\n",
    "        d[\"GPA\"] = \"1\"\n",
    "\n",
    "    return d\n",
    "\n",
    "print(Grade_Converter(\"Dana\", 85))\n",
    "print(Grade_Converter(\"Dana\", 70))\n",
    "print(Grade_Converter(\"Dana\", 60))\n",
    "print(Grade_Converter(\"Dana\", 50))\n",
    "print(Grade_Converter(\"Dana\", 40))\n",
    "print(Grade_Converter(\"Dana\", 10))"
   ]
  },
  {
   "cell_type": "code",
   "execution_count": 29,
   "metadata": {},
   "outputs": [
    {
     "name": "stdout",
     "output_type": "stream",
     "text": [
      "1, 2, 3, 5, 8, 13, 21, 34, 55, 89, 144, 233\n",
      "1, 2, 3, 5, 8, 13, 21, 34, 55, 89, 144, 233, 377\n"
     ]
    }
   ],
   "source": [
    "def fibonacci(n):\n",
    "    num1 = 0\n",
    "    num2 = 1\n",
    "    next = num2\n",
    "    i = 1\n",
    "    x = \"\"\n",
    "\n",
    "    while i <= n:\n",
    "        if (i == n):\n",
    "            x += str(next)\n",
    "        else:\n",
    "            x += str(next) + \", \" \n",
    "        i += 1\n",
    "        num1, num2 = num2, next\n",
    "        next = num1 + num2\n",
    "    return x\n",
    "\n",
    "print(fibonacci(12))\n",
    "print(fibonacci(13))"
   ]
  }
 ],
 "metadata": {
  "kernelspec": {
   "display_name": "base",
   "language": "python",
   "name": "python3"
  },
  "language_info": {
   "codemirror_mode": {
    "name": "ipython",
    "version": 3
   },
   "file_extension": ".py",
   "mimetype": "text/x-python",
   "name": "python",
   "nbconvert_exporter": "python",
   "pygments_lexer": "ipython3",
   "version": "3.12.4"
  }
 },
 "nbformat": 4,
 "nbformat_minor": 2
}
