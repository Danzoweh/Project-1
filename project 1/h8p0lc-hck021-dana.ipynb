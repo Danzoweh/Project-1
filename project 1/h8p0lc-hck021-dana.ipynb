{
 "cells": [
  {
   "cell_type": "code",
   "execution_count": 56,
   "metadata": {},
   "outputs": [
    {
     "name": "stdout",
     "output_type": "stream",
     "text": [
      "Inventory Stock Management\n",
      "====================================================================================================\n"
     ]
    }
   ],
   "source": [
    "print(\"Inventory Stock Management\")\n",
    "print(\"=\"*100)"
   ]
  },
  {
   "cell_type": "code",
   "execution_count": 55,
   "metadata": {},
   "outputs": [],
   "source": [
    "\n",
    "#function Inventory Stock Management\n",
    "def Inventory():\n",
    "    print('Menu:')\n",
    "    print('1.Input Data')\n",
    "    print('2.Menampilkan Data')\n",
    "\n",
    "    return hasil"
   ]
  },
  {
   "cell_type": "code",
   "execution_count": 24,
   "metadata": {},
   "outputs": [
    {
     "name": "stdout",
     "output_type": "stream",
     "text": [
      "Menu:\n",
      "1.Input Data\n",
      "2.Menampilkan Data\n"
     ]
    }
   ],
   "source": [
    "#Test Function 1\n",
    "Inventory()"
   ]
  },
  {
   "cell_type": "code",
   "execution_count": 22,
   "metadata": {},
   "outputs": [
    {
     "name": "stdout",
     "output_type": "stream",
     "text": [
      "Menu Input Data Inventory\n",
      "====================================================================================================\n"
     ]
    }
   ],
   "source": [
    "\n",
    "print(\"Menu Input Data Inventory\")\n",
    "print(\"=\"*100)"
   ]
  },
  {
   "cell_type": "code",
   "execution_count": 50,
   "metadata": {},
   "outputs": [
    {
     "name": "stdout",
     "output_type": "stream",
     "text": [
      "NAMA,JENIS,HARGA\n",
      "Nama\t: ['Jeruk', 'Buah', 5000]\n",
      "Jenis\t: ['Selada', 'Sayur', 7000]\n",
      "Harga\t: ['Almond', 'Kacang', 9000]\n",
      "\n"
     ]
    }
   ],
   "source": [
    "print(\"NAMA,JENIS,HARGA\")\n",
    "#List Inventory\n",
    "data_1 =  [\"Jeruk\",\"Buah\",5000]\n",
    "data_2 =  [\"Selada\",\"Sayur\",7000]\n",
    "data_3 =  [\"Almond\",\"Kacang\",9000]\n",
    "\n",
    "List_buah = [data_1]\n",
    "List_sayur =[data_2]\n",
    "List_kacang=[data_3]\n",
    "\n",
    "#Print List Inventory\n",
    "for peserta in List_buah:\n",
    "    print(f\"Nama\\t: {List_buah[0]}\")\n",
    "    print(f\"Jenis\\t: {List_sayur[0]}\")\n",
    "    print(f\"Harga\\t: {List_kacang[0]}\\n\")\n",
    "\n",
    "    "
   ]
  },
  {
   "cell_type": "code",
   "execution_count": 54,
   "metadata": {},
   "outputs": [
    {
     "name": "stdout",
     "output_type": "stream",
     "text": [
      "Stok Habis ,  Silahkan Kembali Besok\n"
     ]
    }
   ],
   "source": [
    "#variabel baru\n",
    "List_buah = List_kacang = List_sayur = 21000\n",
    "Stok_habis = 21000\n",
    "\n",
    "#if elif else\n",
    "\n",
    "if List_buah < Stok_habis:\n",
    "    print(\"Mulai Jam 5 Sore , Akan ada Diskon Penghabisan\")\n",
    "elif List_buah > Stok_habis:\n",
    "    print(\"Stok Masih ada , Silahkan Belanja\")\n",
    "else:\n",
    "    print(\"Stok Habis ,  Silahkan Kembali Besok\")\n",
    "\n",
    "\n"
   ]
  }
 ],
 "metadata": {
  "kernelspec": {
   "display_name": "base",
   "language": "python",
   "name": "python3"
  },
  "language_info": {
   "codemirror_mode": {
    "name": "ipython",
    "version": 3
   },
   "file_extension": ".py",
   "mimetype": "text/x-python",
   "name": "python",
   "nbconvert_exporter": "python",
   "pygments_lexer": "ipython3",
   "version": "3.12.4"
  }
 },
 "nbformat": 4,
 "nbformat_minor": 2
}
