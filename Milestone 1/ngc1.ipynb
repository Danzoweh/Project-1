{
 "cells": [
  {
   "cell_type": "code",
   "execution_count": 11,
   "metadata": {},
   "outputs": [
    {
     "name": "stdout",
     "output_type": "stream",
     "text": [
      "12\n"
     ]
    }
   ],
   "source": [
    "#List Customer id \n",
    "customer_id = ['B818', 'A461', 'A092', 'A082', 'B341', 'A005', 'A092', 'A461', \n",
    "               'B219', 'B904', 'A901', 'A083', 'B904', 'A092', 'B341', 'B821', \n",
    "               'B341', 'B821', 'B904', 'B818', 'A901', 'A083', 'B818', 'A082', \n",
    "               'B219', 'B219', 'A083', 'A901', 'A082', 'B341', 'B341', 'A083', \n",
    "               'A082', 'B219', 'B439', 'A461', 'A005', 'A901', 'B341', 'A082', \n",
    "               'A083', 'A461', 'A083', 'A901', 'A461', 'A083', 'A082', 'A083', \n",
    "               'B341', 'A901', 'A082', 'A461', 'B219', 'A083', 'B818', 'B821', \n",
    "               'A092', 'B341', 'A461', 'A092', 'A083', 'B821', 'A092']\n",
    "\n",
    "# len(set(customer_id) untuk menghitung set unique di customer id \n",
    "unique_customer_id_count = len(set(customer_id))\n",
    "print(unique_customer_id_count)"
   ]
  },
  {
   "cell_type": "code",
   "execution_count": 8,
   "metadata": {},
   "outputs": [
    {
     "name": "stdout",
     "output_type": "stream",
     "text": [
      "16\n",
      "[36, 49, 64, 81]\n",
      "[1, 4, 9, 16, 25, 36, 49, 64, 81]\n"
     ]
    }
   ],
   "source": [
    "# Print data \n",
    "data = [1, 4, 9, 16, 25, 36, 49, 64, 81, 100]\n",
    "\n",
    "a = data[3]\n",
    "\n",
    "b = data[5:9]\n",
    "\n",
    "c = data[:-1]\n",
    "\n",
    "print(a)\n",
    "print(b)\n",
    "print(c)"
   ]
  },
  {
   "cell_type": "code",
   "execution_count": 4,
   "metadata": {},
   "outputs": [
    {
     "name": "stdout",
     "output_type": "stream",
     "text": [
      "['Nanggroe Aceh Darussalam', 'Sumatera Selatan', 'Kalimantan Barat', 'Jawa Timur', 'Sulawesi Selatan', 'Maluku']\n",
      "{'Nanggroe Aceh Darussalam': 'Aceh', 'Sumatera Selatan': 'Palembang', 'Kalimantan Barat': 'Pontianak', 'Jawa Timur': 'Surabaya', 'Sulawesi Selatan': 'Makassar', 'Maluku': 'Ambon'}\n"
     ]
    }
   ],
   "source": [
    "# List Provinsi\n",
    "provinsi = {'Nanggroe Aceh Darussalam': 'Aceh','Sumatera Selatan': 'Palembang','Kalimantan Barat': 'Pontianak','Jawa Timur': 'Madiun','Sulawesi Selatan': 'Makassar','Maluku': 'Ambon'}\n",
    "\n",
    "# Keys Provinsi\n",
    "list_keys = list(provinsi.keys())\n",
    "print(list_keys)\n",
    "\n",
    "#Rename Provinsi Madiun -> Surabaya\n",
    "provinsi['Jawa Timur'] = 'Surabaya'\n",
    "print(provinsi)"
   ]
  }
 ],
 "metadata": {
  "kernelspec": {
   "display_name": "base",
   "language": "python",
   "name": "python3"
  },
  "language_info": {
   "codemirror_mode": {
    "name": "ipython",
    "version": 3
   },
   "file_extension": ".py",
   "mimetype": "text/x-python",
   "name": "python",
   "nbconvert_exporter": "python",
   "pygments_lexer": "ipython3",
   "version": "3.12.4"
  }
 },
 "nbformat": 4,
 "nbformat_minor": 2
}
